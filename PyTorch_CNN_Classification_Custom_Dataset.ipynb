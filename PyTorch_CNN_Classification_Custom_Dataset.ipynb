{
 "cells": [
  {
   "cell_type": "code",
   "execution_count": 5,
   "metadata": {},
   "outputs": [],
   "source": [
    "%matplotlib inline\n",
    "%config InlineBackend.figure_format = 'retina'\n",
    "import matplotlib.pyplot as plt\n",
    "import numpy as np\n",
    "import torch\n",
    "from torch import nn\n",
    "from torch import optim\n",
    "import torch.nn.functional as F\n",
    "from torchvision import datasets, transforms, models"
   ]
  },
  {
   "cell_type": "code",
   "execution_count": 149,
   "metadata": {},
   "outputs": [],
   "source": [
    "num_epochs = 100\n",
    "num_classes = 3\n",
    "batch_size = 4\n",
    "learning_rate = 0.001"
   ]
  },
  {
   "cell_type": "code",
   "execution_count": 150,
   "metadata": {},
   "outputs": [
    {
     "name": "stdout",
     "output_type": "stream",
     "text": [
      "['Adult', 'Child', 'Irrelevant']\n"
     ]
    }
   ],
   "source": [
    "data_dir = './Spects/train'\n",
    "def load_split_train_test(datadir, valid_size = .2):\n",
    "    train_transforms = transforms.Compose([transforms.RandomResizedCrop(150),\n",
    "                                       transforms.ToTensor(),\n",
    "                                       ])\n",
    "    test_transforms = transforms.Compose([transforms.RandomResizedCrop(150),\n",
    "                                      transforms.ToTensor(),\n",
    "                                      ])\n",
    "    train_data = datasets.ImageFolder(datadir,       \n",
    "                    transform=train_transforms)\n",
    "    test_data = datasets.ImageFolder(datadir,\n",
    "                    transform=test_transforms)\n",
    "    num_train = len(train_data)\n",
    "    indices = list(range(num_train))\n",
    "    split = int(np.floor(valid_size * num_train))\n",
    "    np.random.shuffle(indices)\n",
    "    from torch.utils.data.sampler import SubsetRandomSampler\n",
    "    train_idx, test_idx = indices[split:], indices[:split]\n",
    "    train_sampler = SubsetRandomSampler(train_idx)\n",
    "    test_sampler = SubsetRandomSampler(test_idx)\n",
    "    trainloader = torch.utils.data.DataLoader(train_data,\n",
    "                   sampler=train_sampler, batch_size=batch_size)\n",
    "    testloader = torch.utils.data.DataLoader(test_data,\n",
    "                   sampler=test_sampler, batch_size=batch_size)\n",
    "    return trainloader, testloader\n",
    "trainloader, testloader = load_split_train_test(data_dir, .2)\n",
    "print(trainloader.dataset.classes)"
   ]
  },
  {
   "cell_type": "code",
   "execution_count": 151,
   "metadata": {},
   "outputs": [
    {
     "data": {
      "text/plain": [
       "device(type='cuda')"
      ]
     },
     "execution_count": 151,
     "metadata": {},
     "output_type": "execute_result"
    }
   ],
   "source": [
    "## Check for GPU\n",
    "device = torch.device(\"cuda\" if torch.cuda.is_available() \n",
    "                                  else \"cpu\")\n",
    "device"
   ]
  },
  {
   "cell_type": "code",
   "execution_count": 161,
   "metadata": {
    "scrolled": true
   },
   "outputs": [],
   "source": [
    "import torch.nn as nn\n",
    "import torch.nn.functional as F\n",
    "\n",
    "\n",
    "class Net(nn.Module):\n",
    "    def __init__(self):\n",
    "        super(Net, self).__init__()\n",
    "        self.conv1 = nn.Conv2d(3, 16, kernel_size=3, padding=1)\n",
    "        self.conv2 = nn.Conv2d(16, 32, kernel_size=3, padding=1)\n",
    "        self.pool = nn.MaxPool2d(2, 2)\n",
    "        self.fc1 = nn.Linear(32 * 37* 37, 1024)\n",
    "        self.fc2 = nn.Linear(1024, 3)\n",
    "        \n",
    "    def forward(self, x):\n",
    "        x = self.pool(F.relu(self.conv1(x)))\n",
    "        x = self.pool(F.relu(self.conv2(x)))\n",
    "        #print(x.shape)\n",
    "        x = x.view(-1, 32 * 37* 37)\n",
    "        x = F.relu(self.fc1(x))\n",
    "        x = self.fc2(x)\n",
    "        return x\n",
    "\n",
    "\n",
    "model = Net().to(device)\n"
   ]
  },
  {
   "cell_type": "code",
   "execution_count": 162,
   "metadata": {},
   "outputs": [],
   "source": [
    "import torch.optim as optim\n",
    "\n",
    "criterion = nn.CrossEntropyLoss()\n",
    "optimizer = torch.optim.Adam(model.parameters(), lr=learning_rate)"
   ]
  },
  {
   "cell_type": "code",
   "execution_count": 163,
   "metadata": {
    "scrolled": true
   },
   "outputs": [
    {
     "name": "stdout",
     "output_type": "stream",
     "text": [
      "[1,   200] loss: 2.173\n",
      "[2,   200] loss: 2.094\n",
      "[3,   200] loss: 2.116\n",
      "[4,   200] loss: 2.114\n",
      "[5,   200] loss: 2.099\n",
      "[6,   200] loss: 2.113\n",
      "[7,   200] loss: 2.101\n",
      "[8,   200] loss: 2.096\n",
      "[9,   200] loss: 2.119\n",
      "[10,   200] loss: 2.104\n",
      "[11,   200] loss: 2.104\n",
      "[12,   200] loss: 2.105\n",
      "[13,   200] loss: 2.098\n",
      "[14,   200] loss: 2.111\n",
      "[15,   200] loss: 2.100\n",
      "[16,   200] loss: 2.111\n",
      "[17,   200] loss: 2.100\n",
      "[18,   200] loss: 2.111\n",
      "[19,   200] loss: 2.108\n",
      "[20,   200] loss: 2.104\n",
      "[21,   200] loss: 2.091\n",
      "[22,   200] loss: 2.112\n",
      "[23,   200] loss: 2.107\n",
      "[24,   200] loss: 2.101\n",
      "[25,   200] loss: 2.094\n",
      "[26,   200] loss: 2.121\n",
      "[27,   200] loss: 2.095\n",
      "[28,   200] loss: 2.108\n",
      "[29,   200] loss: 2.107\n",
      "[30,   200] loss: 2.111\n",
      "[31,   200] loss: 2.103\n",
      "[32,   200] loss: 2.105\n",
      "[33,   200] loss: 2.090\n",
      "[34,   200] loss: 2.102\n",
      "[35,   200] loss: 2.114\n",
      "[36,   200] loss: 2.098\n",
      "[37,   200] loss: 2.109\n",
      "[38,   200] loss: 2.116\n",
      "[39,   200] loss: 2.103\n",
      "[40,   200] loss: 2.107\n",
      "[41,   200] loss: 2.102\n",
      "[42,   200] loss: 2.108\n",
      "[43,   200] loss: 2.106\n",
      "[44,   200] loss: 2.095\n",
      "[45,   200] loss: 2.093\n",
      "[46,   200] loss: 2.117\n",
      "[47,   200] loss: 2.102\n",
      "[48,   200] loss: 2.100\n",
      "[49,   200] loss: 2.103\n",
      "[50,   200] loss: 2.109\n",
      "[51,   200] loss: 2.096\n",
      "[52,   200] loss: 2.106\n",
      "[53,   200] loss: 2.116\n",
      "[54,   200] loss: 2.089\n",
      "[55,   200] loss: 2.121\n",
      "[56,   200] loss: 2.085\n",
      "[57,   200] loss: 2.116\n",
      "[58,   200] loss: 2.094\n",
      "[59,   200] loss: 2.101\n",
      "[60,   200] loss: 2.110\n",
      "[61,   200] loss: 2.111\n",
      "[62,   200] loss: 2.100\n",
      "[63,   200] loss: 2.104\n",
      "[64,   200] loss: 2.107\n",
      "[65,   200] loss: 2.106\n",
      "[66,   200] loss: 2.100\n",
      "[67,   200] loss: 2.111\n",
      "[68,   200] loss: 2.089\n",
      "[69,   200] loss: 2.107\n",
      "[70,   200] loss: 2.092\n",
      "[71,   200] loss: 2.108\n",
      "[72,   200] loss: 2.106\n",
      "[73,   200] loss: 2.098\n",
      "[74,   200] loss: 2.123\n",
      "[75,   200] loss: 2.093\n",
      "[76,   200] loss: 2.102\n",
      "[77,   200] loss: 2.103\n",
      "[78,   200] loss: 2.105\n",
      "[79,   200] loss: 2.105\n",
      "[80,   200] loss: 2.100\n",
      "[81,   200] loss: 2.112\n",
      "[82,   200] loss: 2.098\n",
      "[83,   200] loss: 2.111\n",
      "[84,   200] loss: 2.089\n",
      "[85,   200] loss: 2.110\n",
      "[86,   200] loss: 2.106\n",
      "[87,   200] loss: 2.101\n",
      "[88,   200] loss: 2.107\n",
      "[89,   200] loss: 2.103\n",
      "[90,   200] loss: 2.114\n",
      "[91,   200] loss: 2.094\n",
      "[92,   200] loss: 2.097\n",
      "[93,   200] loss: 2.104\n",
      "[94,   200] loss: 2.105\n",
      "[95,   200] loss: 2.107\n",
      "[96,   200] loss: 2.096\n",
      "[97,   200] loss: 2.115\n",
      "[98,   200] loss: 2.097\n",
      "[99,   200] loss: 2.102\n",
      "[100,   200] loss: 2.112\n",
      "Finished Training\n"
     ]
    }
   ],
   "source": [
    "## Train the Network\n",
    "\n",
    "for epoch in range(num_epochs):  # loop over the dataset multiple times\n",
    "    for i, (images, labels) in enumerate(trainloader):\n",
    "        # get the inputs\n",
    "        images = images.to(device)\n",
    "        labels = labels.to(device)\n",
    "        \n",
    "        # zero the parameter gradients\n",
    "        optimizer.zero_grad()\n",
    "\n",
    "        # forward + backward + optimize\n",
    "        outputs = model(images)\n",
    "        loss = criterion(outputs, labels)\n",
    "        loss.backward()\n",
    "        optimizer.step()\n",
    "\n",
    "        # print statistics\n",
    "        running_loss += loss.data\n",
    "        if i % 200 == 199:    # print every 2000 mini-batches\n",
    "            print('[%d, %5d] loss: %.3f' %\n",
    "                  (epoch + 1, i + 1, running_loss / 200))\n",
    "            running_loss = 0.0\n",
    "\n",
    "print('Finished Training')\n"
   ]
  },
  {
   "cell_type": "code",
   "execution_count": null,
   "metadata": {},
   "outputs": [],
   "source": [
    "dataiter = iter(testloader)\n",
    "images, labels = dataiter.next()\n",
    "\n",
    "# print images\n",
    "imshow(torchvision.utils.make_grid(images))\n",
    "print('GroundTruth: ', ' '.join('%5s' % classes[labels[j]] for j in range(4)))"
   ]
  },
  {
   "cell_type": "code",
   "execution_count": null,
   "metadata": {},
   "outputs": [],
   "source": []
  }
 ],
 "metadata": {
  "kernelspec": {
   "display_name": "Python 3",
   "language": "python",
   "name": "python3"
  },
  "language_info": {
   "codemirror_mode": {
    "name": "ipython",
    "version": 3
   },
   "file_extension": ".py",
   "mimetype": "text/x-python",
   "name": "python",
   "nbconvert_exporter": "python",
   "pygments_lexer": "ipython3",
   "version": "3.6.8"
  }
 },
 "nbformat": 4,
 "nbformat_minor": 2
}
